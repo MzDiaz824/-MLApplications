{
 "cells": [
  {
   "cell_type": "code",
   "execution_count": 19,
   "metadata": {},
   "outputs": [
    {
     "name": "stdout",
     "output_type": "stream",
     "text": [
      "TensorFlow version: 2.4.1\n"
     ]
    }
   ],
   "source": [
    "from __future__ import absolute_import, division, print_function\n",
    "\n",
    "import os\n",
    "import matplotlib.pyplot as plt\n",
    "\n",
    "import tensorflow as tf\n",
    "\n",
    "print(\"TensorFlow version: {}\".format(tf.__version__))\n"
   ]
  },
  {
   "cell_type": "markdown",
   "metadata": {},
   "source": [
    "# Import Training Dataset"
   ]
  },
  {
   "cell_type": "code",
   "execution_count": 20,
   "metadata": {},
   "outputs": [],
   "source": [
    "import pandas as pd\n",
    "import numpy as np"
   ]
  },
  {
   "cell_type": "code",
   "execution_count": 29,
   "metadata": {},
   "outputs": [
    {
     "name": "stdout",
     "output_type": "stream",
     "text": [
      "Downloading data from http://download.tensorflow.org/data/iris_training.csv\n",
      "8192/2194 [================================================================================================================] - 0s 0us/step\n",
      "Local copy of the dataset file: /Users/mariadiaz/.keras/datasets/iris_training.csv\n"
     ]
    }
   ],
   "source": [
    "iris_trnr = pd.read_csv(\"http://download.tensorflow.org/data/iris_training.csv\", skiprows = [0],\n",
    "                       names = ['sepal length', 'sepal width', 'petal length', 'petal width', 'type'])\n",
    "#iris_train_data['type'] = np.where(iris_trnr['type']==0, 'setosa', np.where(iris_trnr['type']==1, 'versicolor'))\n",
    "\n",
    "trnr_url = \"http://download.tensorflow.org/data/iris_training.csv\"\n",
    "trnr_fp = tf.keras.utils.get_file(fname=os.path.basename(trnr_url),\n",
    "                                 origin=trnr_url)\n",
    "print(\"Local copy of the dataset file: {}\".format(trnr_fp))\n",
    "                             "
   ]
  },
  {
   "cell_type": "code",
   "execution_count": null,
   "metadata": {},
   "outputs": [],
   "source": []
  }
 ],
 "metadata": {
  "kernelspec": {
   "display_name": "Python 3",
   "language": "python",
   "name": "python3"
  },
  "language_info": {
   "codemirror_mode": {
    "name": "ipython",
    "version": 3
   },
   "file_extension": ".py",
   "mimetype": "text/x-python",
   "name": "python",
   "nbconvert_exporter": "python",
   "pygments_lexer": "ipython3",
   "version": "3.7.4"
  }
 },
 "nbformat": 4,
 "nbformat_minor": 4
}
